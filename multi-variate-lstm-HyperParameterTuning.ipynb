{
 "cells": [
  {
   "cell_type": "markdown",
   "metadata": {
    "_cell_guid": "9e989304-ca31-4ed6-af3b-75e59c6a0999",
    "_uuid": "adbb914cc1466a3652d51972988e26cf2b309a90"
   },
   "source": [
    "# Time Series Prediction with LSTM"
   ]
  },
  {
   "cell_type": "markdown",
   "metadata": {
    "_cell_guid": "660f58b8-64df-4932-8866-2a7468cecbd1",
    "_uuid": "998bc1be9e33074e35114ff479c91a8fdba35d0f"
   },
   "source": [
    "#### Hyperparameter Tuning Exp 1: Tune the LSTM network architecture and configuration"
   ]
  },
  {
   "cell_type": "markdown",
   "metadata": {},
   "source": [
    "#Steps\n",
    "1. Get the stock data using RobinHood instead of Quandl\n",
    "2. Add Technical Indicators\n",
    "3. Combine to create a feature vector\n",
    "4. Convert to series\n",
    "6. Test different LSTM Model\n",
    "7. Build the model\n",
    "8. Look at results\n",
    "\n",
    "Notes:\n",
    "- Robinhood only give 256 days of data (roughly one year) BUT latest data (Predict on this)\n",
    "- Quandl give historical data but not the recent data (Train on this!)"
   ]
  },
  {
   "cell_type": "code",
   "execution_count": 1,
   "metadata": {
    "_cell_guid": "1a872b10-351e-453b-8e3e-2e59ce70b53c",
    "_uuid": "124a1f6d7d906ede16ee8c759bd70d924d25beba"
   },
   "outputs": [
    {
     "name": "stdout",
     "output_type": "stream",
     "text": [
      "Requirement already satisfied: TA-lib in /anaconda3/lib/python3.6/site-packages (0.4.17)\n",
      "Requirement already satisfied: numpy in /anaconda3/lib/python3.6/site-packages (from TA-lib) (1.14.3)\n",
      "\u001b[31mdistributed 1.21.8 requires msgpack, which is not installed.\u001b[0m\n",
      "\u001b[33mYou are using pip version 10.0.1, however version 18.1 is available.\n",
      "You should consider upgrading via the 'pip install --upgrade pip' command.\u001b[0m\n",
      "Requirement already satisfied: quandl in /anaconda3/lib/python3.6/site-packages (3.4.2)\n",
      "Requirement already satisfied: pandas>=0.14 in /anaconda3/lib/python3.6/site-packages (from quandl) (0.23.0)\n",
      "Requirement already satisfied: numpy>=1.8 in /anaconda3/lib/python3.6/site-packages (from quandl) (1.14.3)\n",
      "Requirement already satisfied: requests>=2.7.0 in /anaconda3/lib/python3.6/site-packages (from quandl) (2.18.4)\n",
      "Requirement already satisfied: inflection>=0.3.1 in /anaconda3/lib/python3.6/site-packages (from quandl) (0.3.1)\n",
      "Requirement already satisfied: python-dateutil in /anaconda3/lib/python3.6/site-packages (from quandl) (2.7.3)\n",
      "Requirement already satisfied: six in /anaconda3/lib/python3.6/site-packages (from quandl) (1.11.0)\n",
      "Requirement already satisfied: more-itertools in /anaconda3/lib/python3.6/site-packages (from quandl) (4.1.0)\n",
      "Requirement already satisfied: pytz>=2011k in /anaconda3/lib/python3.6/site-packages (from pandas>=0.14->quandl) (2018.4)\n",
      "Requirement already satisfied: chardet<3.1.0,>=3.0.2 in /anaconda3/lib/python3.6/site-packages (from requests>=2.7.0->quandl) (3.0.4)\n",
      "Requirement already satisfied: idna<2.7,>=2.5 in /anaconda3/lib/python3.6/site-packages (from requests>=2.7.0->quandl) (2.6)\n",
      "Requirement already satisfied: urllib3<1.23,>=1.21.1 in /anaconda3/lib/python3.6/site-packages (from requests>=2.7.0->quandl) (1.22)\n",
      "Requirement already satisfied: certifi>=2017.4.17 in /anaconda3/lib/python3.6/site-packages (from requests>=2.7.0->quandl) (2018.4.16)\n",
      "\u001b[31mdistributed 1.21.8 requires msgpack, which is not installed.\u001b[0m\n",
      "\u001b[33mYou are using pip version 10.0.1, however version 18.1 is available.\n",
      "You should consider upgrading via the 'pip install --upgrade pip' command.\u001b[0m\n"
     ]
    },
    {
     "name": "stderr",
     "output_type": "stream",
     "text": [
      "/anaconda3/lib/python3.6/site-packages/h5py/__init__.py:36: FutureWarning: Conversion of the second argument of issubdtype from `float` to `np.floating` is deprecated. In future, it will be treated as `np.float64 == np.dtype(float).type`.\n",
      "  from ._conv import register_converters as _register_converters\n",
      "Using TensorFlow backend.\n"
     ]
    }
   ],
   "source": [
    "!pip install TA-lib\n",
    "!pip install quandl\n",
    "import talib as ta\n",
    "from math import sqrt\n",
    "from numpy import concatenate\n",
    "from matplotlib import pyplot\n",
    "import pandas as pd\n",
    "from datetime import datetime\n",
    "from sklearn.preprocessing import MinMaxScaler\n",
    "from sklearn.preprocessing import LabelEncoder\n",
    "from sklearn.metrics import mean_squared_error\n",
    "from keras.models import Sequential\n",
    "from keras.layers import Dense\n",
    "from keras.layers import LSTM\n",
    "import numpy as np\n",
    "import seaborn as sns\n",
    "%matplotlib inline"
   ]
  },
  {
   "cell_type": "code",
   "execution_count": 2,
   "metadata": {},
   "outputs": [],
   "source": [
    "\n",
    "def getData(sym,startdate, enddate, choice=1):\n",
    "    if choice == 1:\n",
    "        df = web.DataReader(sym,'robinhood', startdate, enddate)\n",
    "        #df = web.DataReader('VDE','robinhood', startdate, enddate)\n",
    "        #df.set_index('begins_at')\n",
    "        df = df.drop(['interpolated','session'], axis=1)\n",
    "        df = df.rename(index=str, columns={\"close_price\": \"Close\", \"high_price\": \"High\",\"low_price\":\"Low\",\"open_price\":\"Open\",\"volume\":\"Volume\"})\n",
    "    else:\n",
    "        import quandl \n",
    "        quandl.ApiConfig.api_key = \"8zKAkyPxYjMss6sbu_E2\"\n",
    "        df = quandl.get('WIKI/'+sym,start_date=startdate,end_date=enddate, returns='pandas')\n",
    "        df = df.drop(['Open','High','Low','Close','Volume','Ex-Dividend','Split Ratio'], axis=1)\n",
    "        df = df.rename(index=str, columns={\"Adj. Close\": \"Close\", \"Adj. High\": \"High\",\"Adj. Low\":\"Low\",\"Adj. Open\":\"Open\",\"Adj. Volume\":\"Volume\"})\n",
    "    return df"
   ]
  },
  {
   "cell_type": "markdown",
   "metadata": {
    "_cell_guid": "c1475f28-8326-4e08-b89e-6d2ba1a3a20d",
    "_uuid": "40cc3e9db110c4de4eff941912212060ea97da05"
   },
   "source": [
    "#### Use Quandl api "
   ]
  },
  {
   "cell_type": "markdown",
   "metadata": {
    "_cell_guid": "45e392f6-5787-408b-b22a-5bf9fc834be0",
    "_uuid": "79c4ff6143a459e824dc025e2068bf18c5eedc35"
   },
   "source": [
    "import quandl\n",
    "quandl.ApiConfig.api_key = \"8zKAkyPxYjMss6sbu_E2\"\n",
    "\n",
    "#data = quandl.get('WIKI/GOOG',start_date=startdate,end_date=enddate, returns='pandas')"
   ]
  },
  {
   "cell_type": "markdown",
   "metadata": {
    "_cell_guid": "ca232c72-88f3-4a81-9693-a715655a46a9",
    "_uuid": "8f7fc9a995d3f5f71e2702ff052ae48e45b9f621"
   },
   "source": [
    "Get the stock data and only keep the columns that will be used"
   ]
  },
  {
   "cell_type": "code",
   "execution_count": 3,
   "metadata": {},
   "outputs": [],
   "source": [
    "def getStockData(sym, startdate, enddate):\n",
    "    mydata = quandl.get('WIKI/'+sym,start_date=startdate,end_date=enddate, returns='pandas')\n",
    "    mydata = mydata.drop(['Open','High','Low','Close','Volume','Ex-Dividend','Split Ratio'], axis=1)\n",
    "    return mydata"
   ]
  },
  {
   "cell_type": "markdown",
   "metadata": {},
   "source": [
    "Get the VIX volatility data and remove the columns that are not needed"
   ]
  },
  {
   "cell_type": "code",
   "execution_count": 4,
   "metadata": {},
   "outputs": [],
   "source": [
    "def getVIXData(startdate, enddate):\n",
    "    vixdata = quandl.get('CHRIS/CBOE_VX1',start_date=startdate,end_date=enddate, returns='pandas')\n",
    "    vixdata = vixdata.drop(['Open','High','Low','Settle','Change','Total Volume','EFP', 'Prev. Day Open Interest'], axis=1)\n",
    "    vixdata.rename(columns={\"Close\": \"VIX\"}, inplace=True)\n",
    "    return vixdata"
   ]
  },
  {
   "cell_type": "markdown",
   "metadata": {},
   "source": [
    "Calculate select technical indicators and add as features"
   ]
  },
  {
   "cell_type": "code",
   "execution_count": 5,
   "metadata": {},
   "outputs": [],
   "source": [
    "def calcIndicators(mydata, priceName, volName):\n",
    "    # adding 9 additional features \n",
    "    \n",
    "    #mydata['BB_up'], mydata['BB_mid'],mydata['BB_low'] = ta.BBANDS(np.asarray(mydata['Close']), 20)\n",
    "\n",
    "    # Lagging Indictors (Trend)\n",
    "    mydata['EMA_50'] = ta.EMA(mydata[priceName], 50)\n",
    "    mydata['EMA_100'] = ta.EMA(mydata[priceName], 100)\n",
    "    mydata['EMA_200'] = ta.EMA(mydata[priceName], 200)\n",
    "    #mydata['SMA_200'] = ta.EMA(np.asarray(mydata[priceName]), 200)\n",
    "\n",
    "    # Oscillators (Momentum)\n",
    "    mydata['RSI'] = ta.RSI(mydata[priceName],14)\n",
    "    mydata['STO_k'], mydata['STO_d'] = ta.STOCHF(np.asarray(mydata['High']), np.asarray(mydata['Low']), \\\n",
    "                                     np.asarray(mydata['Close']), fastk_period=5, fastd_period=3, fastd_matype=0)\n",
    "    mydata['Macd'], mydata['Macdsignal'], mydata['Macdhist'] = ta.MACD(mydata[priceName],  \\\n",
    "                                                        fastperiod=12, slowperiod=26, signalperiod=9)\n",
    "\n",
    "    # Volume Indicators\n",
    "    mydata['MFI'] = ta.RSI(mydata[priceName],14)\n",
    "    mydata['OBV'] = ta.OBV(mydata[priceName],mydata[priceName])\n",
    "    #mydata['OBV_50'] = ta.EMA(np.asarray(mydata['OBV']), 50)\n",
    "    #mydata['OBV_100'] = ta.EMA(np.asarray(mydata['OBV']), 100)\n",
    "    #mydata['OBV_200'] = ta.EMA(np.asarray(mydata['OBV']), 200)\n",
    "    \n",
    "    #drop all the NaN rows\n",
    "    mydata.dropna(inplace=True)"
   ]
  },
  {
   "cell_type": "markdown",
   "metadata": {},
   "source": [
    "Merge (outer join) the stock feature dataframe with VIX dataframe using the time index, drop all the NaN rows"
   ]
  },
  {
   "cell_type": "code",
   "execution_count": 6,
   "metadata": {},
   "outputs": [],
   "source": [
    "def mergeColumns(stockdata,vixdata):\n",
    "    newdata = pd.concat([stockdata,vixdata],axis =1)\n",
    "    newdata.dropna(inplace=True)\n",
    "    return newdata"
   ]
  },
  {
   "cell_type": "code",
   "execution_count": 7,
   "metadata": {},
   "outputs": [],
   "source": [
    "def addTarget(data,targetName,days):\n",
    "    #a.x2 = a.x2.shift(1)\n",
    "    data['Target']= data[targetName].shift(days)\n",
    "    data.dropna(inplace=True)\n",
    "    data = data.astype('float32')\n",
    "    #print(data)\n",
    "    #print('--------')\n",
    "    \n",
    "    # need to return a numpy array rather than pandas dataframe\n",
    "    return data.values"
   ]
  },
  {
   "cell_type": "markdown",
   "metadata": {
    "_cell_guid": "17c5c659-84fb-441f-92bf-b752fd6a264b",
    "_uuid": "440faceb02d9350f2a17e368daf669c32eb076e5"
   },
   "source": [
    "Normalize the feature vector for use by the classifier"
   ]
  },
  {
   "cell_type": "code",
   "execution_count": 8,
   "metadata": {},
   "outputs": [],
   "source": [
    "def normalizeData(data):\n",
    "    # Rescale all the vales in the table\n",
    "    scaler = MinMaxScaler(feature_range=(0, 1))\n",
    "    scaled = scaler.fit_transform(data)\n",
    "    return scaler, scaled"
   ]
  },
  {
   "cell_type": "markdown",
   "metadata": {},
   "source": [
    "Split data into training and Test"
   ]
  },
  {
   "cell_type": "code",
   "execution_count": 9,
   "metadata": {},
   "outputs": [],
   "source": [
    "def trainingTestSplit(scaled, trainRatio):\n",
    "    n_train_hours = int(len(scaled) * trainRatio)\n",
    "    train = scaled[:n_train_hours, :]\n",
    "    test = scaled[n_train_hours:, :]\n",
    "    \n",
    "    # split into input and outputs\n",
    "    train_X, train_Y = train[:, :-1], train[:, -1]\n",
    "    test_X, test_Y = test[:, :-1], test[:, -1]\n",
    "    print('train X,Y, testX,Y:',train_X.shape, train_Y.shape, test_X.shape, test_Y.shape)\n",
    "    \n",
    "    #reshape input to be 3D [samples, timesteps, features]\n",
    "    train_X = train_X.reshape((train_X.shape[0], 1, train_X.shape[1]))\n",
    "    #print(type(test_X))\n",
    "    test_X = test_X.reshape((test_X.shape[0], 1, test_X.shape[1]))\n",
    "    print('After reshape:', train_X.shape, train_Y.shape, test_X.shape, test_Y.shape)\n",
    "    \n",
    "    return train_X, train_Y, test_X, test_Y"
   ]
  },
  {
   "cell_type": "code",
   "execution_count": 10,
   "metadata": {
    "_cell_guid": "7efdad54-d362-4492-892d-c454eb098712",
    "_uuid": "702f2dfd9e07355620bcad02de830052471c431f"
   },
   "outputs": [],
   "source": [
    "def createModel(train_X,train_Y,test_X,test_Y):\n",
    "    # seven layers to remember 7 dats\n",
    "    model = Sequential()    \n",
    "    model.add(LSTM(16, return_sequences = True, input_shape=(train_X.shape[1], train_X.shape[2])))  \n",
    "    model.add(LSTM(32,return_sequences = True))\n",
    "    model.add(LSTM(64,return_sequences = True))\n",
    "    model.add(LSTM(128,return_sequences = True))\n",
    "    model.add(LSTM(64,return_sequences = True))\n",
    "    model.add(LSTM(32,return_sequences = True))\n",
    "    model.add(LSTM(16))\n",
    "    # output layer\n",
    "    model.add(Dense(1,activation='linear'))\n",
    "    model.compile(loss='mean_squared_error', optimizer='adam',metrics=['accuracy'])\n",
    "    \n",
    "    return model"
   ]
  },
  {
   "cell_type": "markdown",
   "metadata": {
    "_cell_guid": "d57bcae5-faf4-4627-aed6-196c79b45501",
    "_uuid": "539968ae29f8f3e04e9ab9c13475328195e4b67c"
   },
   "source": [
    "Test model predictions against the test data"
   ]
  },
  {
   "cell_type": "code",
   "execution_count": 11,
   "metadata": {
    "_cell_guid": "3675ba21-d893-4810-b750-be56f174d3b1",
    "_uuid": "935e2453284414dc00d48c995374838cd45d3878"
   },
   "outputs": [],
   "source": [
    "def testModel(model, test_X,test_Y):\n",
    "    #print(test_X[:5])\n",
    "    yhat = model.predict(test_X)\n",
    "    print(yhat.shape)\n",
    "    pyplot.plot(yhat, label='predict')\n",
    "    pyplot.plot(test_Y, label='true')\n",
    "    pyplot.legend()\n",
    "    pyplot.show()\n",
    "    \n",
    "    return yhat"
   ]
  },
  {
   "cell_type": "markdown",
   "metadata": {
    "_cell_guid": "2693f259-62e6-4618-ba35-e8c61796ca85",
    "_uuid": "dae0a33db1cc2b8895571b5daf28079a7bfc1d5d"
   },
   "source": [
    "#### Scaler Inverse Y back to normal value"
   ]
  },
  {
   "cell_type": "code",
   "execution_count": 12,
   "metadata": {
    "_cell_guid": "95d5c947-bae5-463c-90d6-aa5ecbdc6ed6",
    "_uuid": "854d9c93dd568a111cf9a14335dbbf54d279be31"
   },
   "outputs": [],
   "source": [
    "def calcPredError(test_X, test_Y, yhat, scaler):\n",
    "    \n",
    "    test_X = test_X.reshape((test_X.shape[0], test_X.shape[2]))\n",
    "  \n",
    "    # invert scaling for forecast\n",
    "    test_X = np.concatenate((test_X,yhat),axis=1)\n",
    "    inv_yhat = scaler.inverse_transform(test_X)\n",
    "    inv_yhat = inv_yhat[:,0]\n",
    "    # invert scaling for actual\n",
    "    test_Y = test_Y.reshape((len(test_Y), 1))\n",
    "    inv_y = concatenate((test_Y, test_X[:, 1:]), axis=1)\n",
    "    inv_y = scaler.inverse_transform(inv_y)\n",
    "    inv_y = inv_y[:,0]\n",
    "    \n",
    "    rmse = sqrt(mean_squared_error(inv_y, inv_yhat))\n",
    "    print('Test RMSE: %.3f' % rmse)\n",
    "    return rmse"
   ]
  },
  {
   "cell_type": "markdown",
   "metadata": {
    "_cell_guid": "a78efc96-a474-4e7a-9710-1acc5ec5f3af",
    "_uuid": "db764d6976a5ba5efb33547b7dc48e9fdc9698ab"
   },
   "source": [
    "Main Function"
   ]
  },
  {
   "cell_type": "code",
   "execution_count": 17,
   "metadata": {
    "_cell_guid": "5aed0b53-1b40-42fe-8472-bb0998ccf1b7",
    "_uuid": "148769aa228dc1501e2c49584e62576076bea186"
   },
   "outputs": [
    {
     "name": "stdout",
     "output_type": "stream",
     "text": [
      "2018-10-26\n",
      "2012-11-26\n",
      "Original Data shape: (1007, 5)\n",
      "After TA Indicators Data shape: (808, 16)\n",
      "train X,Y, testX,Y: (680, 16) (680,) (121, 16) (121,)\n",
      "After reshape: (680, 1, 16) (680,) (121, 1, 16) (121,)\n",
      "Train on 680 samples, validate on 121 samples\n",
      "Epoch 1/50\n",
      "680/680 [==============================] - 8s 12ms/step - loss: 0.1485 - acc: 0.0015 - val_loss: 0.6375 - val_acc: 0.0000e+00\n",
      "Epoch 2/50\n",
      "680/680 [==============================] - 1s 1ms/step - loss: 0.1268 - acc: 0.0015 - val_loss: 0.5725 - val_acc: 0.0000e+00\n",
      "Epoch 3/50\n",
      "680/680 [==============================] - 1s 1ms/step - loss: 0.0967 - acc: 0.0015 - val_loss: 0.4552 - val_acc: 0.0000e+00\n",
      "Epoch 4/50\n",
      "680/680 [==============================] - 1s 1ms/step - loss: 0.0516 - acc: 0.0015 - val_loss: 0.1902 - val_acc: 0.0000e+00\n",
      "Epoch 5/50\n",
      "680/680 [==============================] - 1s 1ms/step - loss: 0.0341 - acc: 0.0015 - val_loss: 0.1914 - val_acc: 0.0000e+00\n",
      "Epoch 6/50\n",
      "680/680 [==============================] - 1s 1ms/step - loss: 0.0310 - acc: 0.0015 - val_loss: 0.1968 - val_acc: 0.0000e+00\n",
      "Epoch 7/50\n",
      "680/680 [==============================] - 1s 1ms/step - loss: 0.0262 - acc: 0.0015 - val_loss: 0.1111 - val_acc: 0.0000e+00\n",
      "Epoch 8/50\n",
      "680/680 [==============================] - 1s 1ms/step - loss: 0.0190 - acc: 0.0015 - val_loss: 0.0670 - val_acc: 0.0083\n",
      "Epoch 9/50\n",
      "680/680 [==============================] - 1s 1ms/step - loss: 0.0093 - acc: 0.0015 - val_loss: 0.0152 - val_acc: 0.0083\n",
      "Epoch 10/50\n",
      "680/680 [==============================] - 1s 1ms/step - loss: 0.0035 - acc: 0.0015 - val_loss: 0.0050 - val_acc: 0.0083\n",
      "Epoch 11/50\n",
      "680/680 [==============================] - 1s 1ms/step - loss: 0.0029 - acc: 0.0015 - val_loss: 0.0048 - val_acc: 0.0083\n",
      "Epoch 12/50\n",
      "680/680 [==============================] - 1s 1ms/step - loss: 0.0020 - acc: 0.0015 - val_loss: 0.0102 - val_acc: 0.0083\n",
      "Epoch 13/50\n",
      "680/680 [==============================] - 1s 1ms/step - loss: 0.0015 - acc: 0.0015 - val_loss: 0.0160 - val_acc: 0.0083\n",
      "Epoch 14/50\n",
      "680/680 [==============================] - 1s 1ms/step - loss: 0.0012 - acc: 0.0015 - val_loss: 0.0170 - val_acc: 0.0083\n",
      "Epoch 15/50\n",
      "680/680 [==============================] - 1s 1ms/step - loss: 0.0011 - acc: 0.0015 - val_loss: 0.0179 - val_acc: 0.0083\n",
      "Epoch 16/50\n",
      "680/680 [==============================] - 1s 1ms/step - loss: 0.0010 - acc: 0.0015 - val_loss: 0.0194 - val_acc: 0.0083\n",
      "Epoch 17/50\n",
      "680/680 [==============================] - 1s 1ms/step - loss: 9.5405e-04 - acc: 0.0015 - val_loss: 0.0207 - val_acc: 0.0083\n",
      "Epoch 18/50\n",
      "680/680 [==============================] - 1s 1ms/step - loss: 9.2605e-04 - acc: 0.0015 - val_loss: 0.0218 - val_acc: 0.0083\n",
      "Epoch 19/50\n",
      "680/680 [==============================] - 1s 1ms/step - loss: 8.9802e-04 - acc: 0.0015 - val_loss: 0.0200 - val_acc: 0.0083\n",
      "Epoch 20/50\n",
      "680/680 [==============================] - 1s 1ms/step - loss: 8.7565e-04 - acc: 0.0015 - val_loss: 0.0213 - val_acc: 0.0083\n",
      "Epoch 21/50\n",
      "680/680 [==============================] - 1s 1ms/step - loss: 8.3574e-04 - acc: 0.0015 - val_loss: 0.0215 - val_acc: 0.0083\n",
      "Epoch 22/50\n",
      "680/680 [==============================] - 1s 1ms/step - loss: 7.9223e-04 - acc: 0.0015 - val_loss: 0.0196 - val_acc: 0.0083\n",
      "Epoch 23/50\n",
      "680/680 [==============================] - 1s 1ms/step - loss: 7.7483e-04 - acc: 0.0015 - val_loss: 0.0187 - val_acc: 0.0083\n",
      "Epoch 24/50\n",
      "680/680 [==============================] - 1s 1ms/step - loss: 7.4574e-04 - acc: 0.0015 - val_loss: 0.0180 - val_acc: 0.0083\n",
      "Epoch 25/50\n",
      "680/680 [==============================] - 1s 1ms/step - loss: 7.1964e-04 - acc: 0.0015 - val_loss: 0.0177 - val_acc: 0.0083\n",
      "Epoch 26/50\n",
      "680/680 [==============================] - 1s 1ms/step - loss: 7.2276e-04 - acc: 0.0015 - val_loss: 0.0192 - val_acc: 0.0083\n",
      "Epoch 27/50\n",
      "680/680 [==============================] - 1s 1ms/step - loss: 6.6428e-04 - acc: 0.0015 - val_loss: 0.0189 - val_acc: 0.0083\n",
      "Epoch 28/50\n",
      "680/680 [==============================] - 1s 1ms/step - loss: 6.4281e-04 - acc: 0.0015 - val_loss: 0.0158 - val_acc: 0.0083\n",
      "Epoch 29/50\n",
      "680/680 [==============================] - 1s 1ms/step - loss: 6.3485e-04 - acc: 0.0015 - val_loss: 0.0156 - val_acc: 0.0083\n",
      "Epoch 30/50\n",
      "680/680 [==============================] - 1s 1ms/step - loss: 6.0269e-04 - acc: 0.0015 - val_loss: 0.0165 - val_acc: 0.0083\n",
      "Epoch 31/50\n",
      "680/680 [==============================] - 1s 1ms/step - loss: 5.8099e-04 - acc: 0.0015 - val_loss: 0.0163 - val_acc: 0.0083\n",
      "Epoch 32/50\n",
      "680/680 [==============================] - 1s 1ms/step - loss: 5.5779e-04 - acc: 0.0015 - val_loss: 0.0161 - val_acc: 0.0083\n",
      "Epoch 33/50\n",
      "680/680 [==============================] - 1s 1ms/step - loss: 5.4194e-04 - acc: 0.0015 - val_loss: 0.0148 - val_acc: 0.0083\n",
      "Epoch 34/50\n",
      "680/680 [==============================] - 1s 1ms/step - loss: 5.2052e-04 - acc: 0.0015 - val_loss: 0.0143 - val_acc: 0.0083\n",
      "Epoch 35/50\n",
      "680/680 [==============================] - 1s 1ms/step - loss: 5.1747e-04 - acc: 0.0015 - val_loss: 0.0155 - val_acc: 0.0083\n",
      "Epoch 36/50\n",
      "680/680 [==============================] - 1s 1ms/step - loss: 4.9797e-04 - acc: 0.0015 - val_loss: 0.0159 - val_acc: 0.0083\n",
      "Epoch 37/50\n",
      "680/680 [==============================] - 1s 1ms/step - loss: 4.8401e-04 - acc: 0.0015 - val_loss: 0.0149 - val_acc: 0.0083\n",
      "Epoch 38/50\n",
      "680/680 [==============================] - 1s 1ms/step - loss: 4.6260e-04 - acc: 0.0015 - val_loss: 0.0135 - val_acc: 0.0083\n",
      "Epoch 39/50\n",
      "680/680 [==============================] - 1s 1ms/step - loss: 4.7534e-04 - acc: 0.0015 - val_loss: 0.0134 - val_acc: 0.0083\n",
      "Epoch 40/50\n",
      "680/680 [==============================] - 1s 1ms/step - loss: 4.4676e-04 - acc: 0.0015 - val_loss: 0.0128 - val_acc: 0.0083\n",
      "Epoch 41/50\n",
      "680/680 [==============================] - 1s 1ms/step - loss: 4.3619e-04 - acc: 0.0015 - val_loss: 0.0116 - val_acc: 0.0083\n",
      "Epoch 42/50\n",
      "680/680 [==============================] - 1s 1ms/step - loss: 4.5839e-04 - acc: 0.0015 - val_loss: 0.0104 - val_acc: 0.0083\n",
      "Epoch 43/50\n",
      "680/680 [==============================] - 1s 1ms/step - loss: 4.2212e-04 - acc: 0.0015 - val_loss: 0.0115 - val_acc: 0.0083\n",
      "Epoch 44/50\n",
      "680/680 [==============================] - 1s 1ms/step - loss: 4.3481e-04 - acc: 0.0015 - val_loss: 0.0103 - val_acc: 0.0083\n",
      "Epoch 45/50\n",
      "680/680 [==============================] - 1s 1ms/step - loss: 4.2279e-04 - acc: 0.0015 - val_loss: 0.0113 - val_acc: 0.0083\n",
      "Epoch 46/50\n",
      "680/680 [==============================] - 1s 965us/step - loss: 3.8733e-04 - acc: 0.0015 - val_loss: 0.0116 - val_acc: 0.0083\n",
      "Epoch 47/50\n",
      "680/680 [==============================] - 1s 898us/step - loss: 3.7744e-04 - acc: 0.0015 - val_loss: 0.0115 - val_acc: 0.0083\n",
      "Epoch 48/50\n",
      "680/680 [==============================] - 1s 906us/step - loss: 3.7479e-04 - acc: 0.0015 - val_loss: 0.0110 - val_acc: 0.0083\n",
      "Epoch 49/50\n",
      "680/680 [==============================] - 1s 933us/step - loss: 3.7313e-04 - acc: 0.0015 - val_loss: 0.0103 - val_acc: 0.0083\n",
      "Epoch 50/50\n",
      "680/680 [==============================] - 1s 1ms/step - loss: 3.6966e-04 - acc: 0.0015 - val_loss: 0.0105 - val_acc: 0.0083\n",
      "acc: 0.83%\n"
     ]
    }
   ],
   "source": [
    "pd.core.common.is_list_like = pd.api.types.is_list_like\n",
    "import pandas_datareader.data as web\n",
    "\n",
    "from datetime import date, timedelta\n",
    "enddate = date.today().strftime('%Y-%m-%d')\n",
    "print(enddate)\n",
    "startdate = (date.today() - timedelta(2160)).strftime('%Y-%m-%d')\n",
    "print(startdate)\n",
    "\n",
    "sym = 'GOOG'\n",
    "trainRatio = 0.85\n",
    "num_epoch = 50\n",
    "daysShift = 7 # -1 Predict on day ahead, -2 2 days ahead...\n",
    "\n",
    "#mydata =  getStockData(sym, startdate, enddate)\n",
    "# 1 = data from Robinhood 0 == data from quandl\n",
    "mydata = getData(sym,startdate, enddate,0)\n",
    "print('Original Data shape:',mydata.shape)\n",
    "\n",
    "#vixdata = getVIXData(startdate, enddate)\n",
    "calcIndicators(mydata, 'Close', 'Volume')\n",
    "print('After TA Indicators Data shape:',mydata.shape)\n",
    "#newdata = mergeColumns(mydata,vixdata)\n",
    "#print('Feature Vectors shape prior train/test split:',newdata.shape)\n",
    "#newdata.tail()\n",
    "\n",
    "features = addTarget(mydata,'Close',daysShift)\n",
    "scaler, scaled = normalizeData(features)\n",
    "\n",
    "train_X, train_Y, test_X, test_Y = trainingTestSplit(scaled, trainRatio)\n",
    "\n",
    "lstm_model = createModel(train_X,train_Y,test_X,test_Y)\n",
    "lstm_pred = lstm_model.fit(train_X, train_Y, epochs=num_epoch, batch_size=64, validation_data=(test_X, test_Y))\n",
    "\n",
    "scores = lstm_model.evaluate(test_X, test_Y, verbose=0)\n",
    "print(\"%s: %.2f%%\" % (lstm_model.metrics_names[1], scores[1]*100))\n"
   ]
  },
  {
   "cell_type": "code",
   "execution_count": 16,
   "metadata": {},
   "outputs": [
    {
     "data": {
      "image/png": "[encoded data removed]",
      "text/plain": [
       "<Figure size 432x288 with 1 Axes>"
      ]
     },
     "metadata": {},
     "output_type": "display_data"
    },
    {
     "name": "stdout",
     "output_type": "stream",
     "text": [
      "(121, 1)\n"
     ]
    },
    {
     "data": {
      "image/png": "[encoded data removed]",
      "text/plain": [
       "<Figure size 432x288 with 1 Axes>"
      ]
     },
     "metadata": {},
     "output_type": "display_data"
    },
    {
     "name": "stdout",
     "output_type": "stream",
     "text": [
      "Test RMSE: 38.418\n"
     ]
    },
    {
     "data": {
      "text/plain": [
       "38.417903414090354"
      ]
     },
     "execution_count": 16,
     "metadata": {},
     "output_type": "execute_result"
    }
   ],
   "source": [
    "# plot results\n",
    "pyplot.plot(lstm_pred.history['loss'], label='multi_train')\n",
    "pyplot.plot(lstm_pred.history['val_loss'], label='multi_test')\n",
    "pyplot.legend()\n",
    "pyplot.show()\n",
    "\n",
    "yhat = testModel(lstm_model, test_X,test_Y)\n",
    "calcPredError(test_X, test_Y, yhat, scaler)"
   ]
  },
  {
   "cell_type": "code",
   "execution_count": null,
   "metadata": {},
   "outputs": [],
   "source": []
  }
 ],
 "metadata": {
  "kernelspec": {
   "display_name": "Python 3",
   "language": "python",
   "name": "python3"
  },
  "language_info": {
   "codemirror_mode": {
    "name": "ipython",
    "version": 3
   },
   "file_extension": ".py",
   "mimetype": "text/x-python",
   "name": "python",
   "nbconvert_exporter": "python",
   "pygments_lexer": "ipython3",
   "version": "3.6.5"
  }
 },
 "nbformat": 4,
 "nbformat_minor": 1
}
